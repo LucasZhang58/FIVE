{
 "cells": [
  {
   "cell_type": "code",
   "execution_count": 69,
   "metadata": {
    "scrolled": true
   },
   "outputs": [
    {
     "name": "stdout",
     "output_type": "stream",
     "text": [
      "                     date  menteeId             updated     activityType  \\\n",
      "0     2020-11-18 16:09:36       199 2020-11-18 16:09:37  LAST_CONNECTION   \n",
      "1     2020-11-18 16:09:36       199 2020-11-18 16:09:37  LAST_CONNECTION   \n",
      "2     2020-11-18 16:09:36       199 2020-11-18 16:09:37  LAST_CONNECTION   \n",
      "3     2020-11-18 16:09:43       199 2020-11-18 16:09:44  LAST_CONNECTION   \n",
      "4     2020-11-18 16:09:51       199 2020-11-18 16:09:51     READ_CONTENT   \n",
      "...                   ...       ...                 ...              ...   \n",
      "63418 2020-12-17 20:10:08      5133 2020-12-17 20:10:08         OPEN_APP   \n",
      "63419 2020-12-17 20:04:12      5134 2020-12-17 20:04:13  LAST_CONNECTION   \n",
      "63420 2020-12-17 20:04:13      5134 2020-12-17 20:04:13         OPEN_APP   \n",
      "63421 2020-12-17 20:04:13      5134 2020-12-17 20:04:13  LAST_CONNECTION   \n",
      "63422 2020-12-17 20:04:13      5134 2020-12-17 20:04:13         OPEN_APP   \n",
      "\n",
      "           lastConnection  rated contentType         contentTitle  \\\n",
      "0     2020-11-18 16:09:36    NaN         NaN                  NaN   \n",
      "1     2020-11-18 16:09:36    NaN         NaN                  NaN   \n",
      "2     2020-11-18 16:09:36    NaN         NaN                  NaN   \n",
      "3     2020-11-18 16:09:43    NaN         NaN                  NaN   \n",
      "4                     NaT    NaN     ARTICLE  Career Focus: Nurse   \n",
      "...                   ...    ...         ...                  ...   \n",
      "63418                 NaT    NaN         NaN                  NaN   \n",
      "63419 2020-12-17 20:04:12    NaN         NaN                  NaN   \n",
      "63420                 NaT    NaN         NaN                  NaN   \n",
      "63421 2020-12-17 20:04:13    NaN         NaN                  NaN   \n",
      "63422                 NaT    NaN         NaN                  NaN   \n",
      "\n",
      "      contentCategory comment  \n",
      "0                 NaN     NaN  \n",
      "1                 NaN     NaN  \n",
      "2                 NaN     NaN  \n",
      "3                 NaN     NaN  \n",
      "4                 NaN     NaN  \n",
      "...               ...     ...  \n",
      "63418             NaN     NaN  \n",
      "63419             NaN     NaN  \n",
      "63420             NaN     NaN  \n",
      "63421             NaN     NaN  \n",
      "63422             NaN     NaN  \n",
      "\n",
      "[63423 rows x 10 columns]\n",
      "Index(['date', 'menteeId', 'updated', 'activityType', 'lastConnection',\n",
      "       'rated', 'contentType', 'contentTitle', 'contentCategory', 'comment'],\n",
      "      dtype='object')\n"
     ]
    }
   ],
   "source": [
    "  \n",
    "import pandas as pd\n",
    "import numpy as np\n",
    "pd.options.mode.chained_assignment = None\n",
    "\n",
    "excel_file = 'cleaned_mentee_interactions.csv'\n",
    "parse_dates = ['date','updated','lastConnection']\n",
    "df = pd.read_csv(excel_file, parse_dates = parse_dates)\n",
    "print(df)\n",
    "print(df.columns)"
   ]
  },
  {
   "cell_type": "code",
   "execution_count": 2,
   "metadata": {
    "scrolled": true
   },
   "outputs": [
    {
     "name": "stdout",
     "output_type": "stream",
     "text": [
      "                     date  menteeId             updated     activityType  \\\n",
      "0     2020-11-18 16:09:36       199 2020-11-18 16:09:37  LAST_CONNECTION   \n",
      "3     2020-11-18 16:09:43       199 2020-11-18 16:09:44  LAST_CONNECTION   \n",
      "4     2020-11-18 16:09:51       199 2020-11-18 16:09:51     READ_CONTENT   \n",
      "5     2020-11-18 16:09:54       199 2020-11-18 16:09:54     RATE_CONTENT   \n",
      "6     2020-11-19 14:02:07       199 2020-11-19 14:02:07  LAST_CONNECTION   \n",
      "...                   ...       ...                 ...              ...   \n",
      "63415 2020-12-17 20:10:07      5133 2020-12-17 20:10:08  LAST_CONNECTION   \n",
      "63416 2020-12-17 20:10:08      5133 2020-12-17 20:10:08         OPEN_APP   \n",
      "63419 2020-12-17 20:04:12      5134 2020-12-17 20:04:13  LAST_CONNECTION   \n",
      "63420 2020-12-17 20:04:13      5134 2020-12-17 20:04:13         OPEN_APP   \n",
      "63421 2020-12-17 20:04:13      5134 2020-12-17 20:04:13  LAST_CONNECTION   \n",
      "\n",
      "           lastConnection  rated contentType         contentTitle  \\\n",
      "0     2020-11-18 16:09:36    NaN         NaN                  NaN   \n",
      "3     2020-11-18 16:09:43    NaN         NaN                  NaN   \n",
      "4                     NaT    NaN     ARTICLE  Career Focus: Nurse   \n",
      "5                     NaT    1.0     ARTICLE  Career Focus: Nurse   \n",
      "6     2020-11-19 14:02:07    NaN         NaN                  NaN   \n",
      "...                   ...    ...         ...                  ...   \n",
      "63415 2020-12-17 20:10:07    NaN         NaN                  NaN   \n",
      "63416                 NaT    NaN         NaN                  NaN   \n",
      "63419 2020-12-17 20:04:12    NaN         NaN                  NaN   \n",
      "63420                 NaT    NaN         NaN                  NaN   \n",
      "63421 2020-12-17 20:04:13    NaN         NaN                  NaN   \n",
      "\n",
      "               contentCategory comment  \n",
      "0                          NaN     NaN  \n",
      "3                          NaN     NaN  \n",
      "4                          NaN     NaN  \n",
      "5      World of Work Wednesday     NaN  \n",
      "6                          NaN     NaN  \n",
      "...                        ...     ...  \n",
      "63415                      NaN     NaN  \n",
      "63416                      NaN     NaN  \n",
      "63419                      NaN     NaN  \n",
      "63420                      NaN     NaN  \n",
      "63421                      NaN     NaN  \n",
      "\n",
      "[47116 rows x 10 columns]\n",
      "Index(['date', 'menteeId', 'updated', 'activityType', 'lastConnection',\n",
      "       'rated', 'contentType', 'contentTitle', 'contentCategory', 'comment'],\n",
      "      dtype='object')\n"
     ]
    }
   ],
   "source": [
    "#Remove duplicate rows\n",
    "df.drop_duplicates(inplace=True)\n",
    "\n",
    "print(df)\n",
    "print(df.columns)"
   ]
  },
  {
   "cell_type": "code",
   "execution_count": 3,
   "metadata": {},
   "outputs": [],
   "source": [
    "#day of the week\n",
    "df['day_of_week'] = df['date'].dt.day_name()\n",
    "\n",
    "firstDay = df.date.min().date()\n",
    "lastDay = df.date.max().date()\n",
    "\n",
    "uniqueDates = np.sort(df['date'].dt.date.unique())\n",
    "\n",
    "uniqueMenteeIds = df['menteeId'].unique()\n",
    "\n",
    "#create a new dataframe with unique dates as the columns and the menteeIds as the index\n",
    "\n",
    "loginCheck = pd.DataFrame(index = uniqueMenteeIds, columns = uniqueDates, dtype=int).fillna(value = 0)\n"
   ]
  },
  {
   "cell_type": "code",
   "execution_count": 64,
   "metadata": {},
   "outputs": [
    {
     "name": "stdout",
     "output_type": "stream",
     "text": [
      "1130\n"
     ]
    }
   ],
   "source": [
    "print(len(uniqueMenteeIds))"
   ]
  },
  {
   "cell_type": "code",
   "execution_count": 4,
   "metadata": {},
   "outputs": [],
   "source": [
    "for _, i in df.iterrows(): #loop through rows in dataframe\n",
    "    curDate = i.loc['date'].date()\n",
    "    curMenteeId = i.loc['menteeId']\n",
    "    loginCheck.loc[curMenteeId, curDate] = 1.0"
   ]
  },
  {
   "cell_type": "code",
   "execution_count": 5,
   "metadata": {
    "scrolled": true
   },
   "outputs": [
    {
     "name": "stdout",
     "output_type": "stream",
     "text": [
      "      2020-11-06  2020-11-17  2020-11-18  2020-11-19  2020-11-20  2020-11-21  \\\n",
      "199          0.0         0.0         1.0         1.0         0.0         0.0   \n",
      "203          0.0         0.0         0.0         0.0         0.0         0.0   \n",
      "219          0.0         0.0         0.0         0.0         0.0         0.0   \n",
      "239          0.0         0.0         1.0         1.0         1.0         1.0   \n",
      "246          0.0         0.0         1.0         1.0         1.0         0.0   \n",
      "...          ...         ...         ...         ...         ...         ...   \n",
      "5129         0.0         0.0         0.0         0.0         0.0         0.0   \n",
      "5131         0.0         0.0         0.0         0.0         0.0         0.0   \n",
      "5132         0.0         0.0         0.0         0.0         0.0         0.0   \n",
      "5133         0.0         0.0         0.0         0.0         0.0         0.0   \n",
      "5134         0.0         0.0         0.0         0.0         0.0         0.0   \n",
      "\n",
      "      2020-11-22  2020-11-23  2020-11-24  2020-11-25  ...  2020-12-09  \\\n",
      "199          1.0         0.0         0.0         0.0  ...         1.0   \n",
      "203          0.0         0.0         0.0         0.0  ...         0.0   \n",
      "219          0.0         0.0         0.0         0.0  ...         1.0   \n",
      "239          0.0         1.0         1.0         0.0  ...         1.0   \n",
      "246          1.0         0.0         1.0         0.0  ...         0.0   \n",
      "...          ...         ...         ...         ...  ...         ...   \n",
      "5129         0.0         0.0         0.0         0.0  ...         0.0   \n",
      "5131         0.0         0.0         0.0         0.0  ...         0.0   \n",
      "5132         0.0         0.0         0.0         0.0  ...         0.0   \n",
      "5133         0.0         0.0         0.0         0.0  ...         0.0   \n",
      "5134         0.0         0.0         0.0         0.0  ...         0.0   \n",
      "\n",
      "      2020-12-10  2020-12-11  2020-12-12  2020-12-13  2020-12-14  2020-12-15  \\\n",
      "199          1.0         1.0         1.0         1.0         1.0         1.0   \n",
      "203          0.0         0.0         0.0         0.0         0.0         1.0   \n",
      "219          1.0         1.0         1.0         1.0         1.0         1.0   \n",
      "239          1.0         1.0         1.0         1.0         1.0         1.0   \n",
      "246          1.0         1.0         1.0         0.0         0.0         0.0   \n",
      "...          ...         ...         ...         ...         ...         ...   \n",
      "5129         0.0         0.0         0.0         0.0         0.0         0.0   \n",
      "5131         0.0         0.0         0.0         0.0         0.0         0.0   \n",
      "5132         0.0         0.0         0.0         0.0         0.0         0.0   \n",
      "5133         0.0         0.0         0.0         0.0         0.0         0.0   \n",
      "5134         0.0         0.0         0.0         0.0         0.0         0.0   \n",
      "\n",
      "      2020-12-16  2020-12-17  2020-12-18  \n",
      "199          1.0         1.0         1.0  \n",
      "203          0.0         0.0         0.0  \n",
      "219          0.0         1.0         1.0  \n",
      "239          1.0         1.0         1.0  \n",
      "246          1.0         1.0         0.0  \n",
      "...          ...         ...         ...  \n",
      "5129         0.0         1.0         0.0  \n",
      "5131         0.0         1.0         0.0  \n",
      "5132         0.0         1.0         1.0  \n",
      "5133         0.0         1.0         0.0  \n",
      "5134         0.0         1.0         0.0  \n",
      "\n",
      "[1130 rows x 33 columns]\n"
     ]
    }
   ],
   "source": [
    "print(loginCheck)"
   ]
  },
  {
   "cell_type": "code",
   "execution_count": 68,
   "metadata": {
    "scrolled": true
   },
   "outputs": [
    {
     "name": "stdout",
     "output_type": "stream",
     "text": [
      "          Date  Mentees Logged In  Log-In Rate (%)\n",
      "0   2020-11-06                1.0         0.088496\n",
      "1   2020-11-17                1.0         0.088496\n",
      "2   2020-11-18              207.0        18.318584\n",
      "3   2020-11-19              237.0        20.973451\n",
      "4   2020-11-20              230.0        20.353982\n",
      "5   2020-11-21              179.0        15.840708\n",
      "6   2020-11-22              173.0        15.309735\n",
      "7   2020-11-23              181.0        16.017699\n",
      "8   2020-11-24              262.0        23.185841\n",
      "9   2020-11-25              179.0        15.840708\n",
      "10  2020-11-26              154.0        13.628319\n",
      "11  2020-11-27              160.0        14.159292\n",
      "12  2020-11-28              115.0        10.176991\n",
      "13  2020-11-29              130.0        11.504425\n",
      "14  2020-11-30              151.0        13.362832\n",
      "15  2020-12-01              231.0        20.442478\n",
      "16  2020-12-02              158.0        13.982301\n",
      "17  2020-12-03              300.0        26.548673\n",
      "18  2020-12-04              212.0        18.761062\n",
      "19  2020-12-05              134.0        11.858407\n",
      "20  2020-12-06              155.0        13.716814\n",
      "21  2020-12-07              181.0        16.017699\n",
      "22  2020-12-08              212.0        18.761062\n",
      "23  2020-12-09              339.0        30.000000\n",
      "24  2020-12-10              226.0        20.000000\n",
      "25  2020-12-11              277.0        24.513274\n",
      "26  2020-12-12              175.0        15.486726\n",
      "27  2020-12-13              153.0        13.539823\n",
      "28  2020-12-14              273.0        24.159292\n",
      "29  2020-12-15              299.0        26.460177\n",
      "30  2020-12-16              338.0        29.911504\n",
      "31  2020-12-17              313.0        27.699115\n",
      "32  2020-12-18              112.0         9.911504\n"
     ]
    }
   ],
   "source": [
    "numOfMentees = len(uniqueMenteeIds)\n",
    "dateFreqDict = {}\n",
    "for col in loginCheck.columns: #loop through columns in the loginCheck dataframe\n",
    "    dateFreqDict[col.strftime(\"%Y-%m-%d\")] = loginCheck[col].sum(axis=0)\n",
    "dateFreqDF = pd.DataFrame(dateFreqDict.items(), columns=['Date', 'Mentees Logged In'])\n",
    "\n",
    "\n",
    "#dateFreqDF[\"Login Rate\"] = (dateFreqDF[\"Number\"] / numOfMentees)\n",
    "#dateFreqDF[\"Login Rate\"] = dateFreqDF['Number']/numOfMentees\n",
    "dateFreqDF.insert(2, \"Log-In Rate (%)\", 100*(dateFreqDF['Mentees Logged In'] / numOfMentees), True)\n",
    "print(dateFreqDF)\n",
    "    \n",
    "    \n",
    "\n"
   ]
  },
  {
   "cell_type": "code",
   "execution_count": null,
   "metadata": {},
   "outputs": [],
   "source": []
  },
  {
   "cell_type": "code",
   "execution_count": 27,
   "metadata": {},
   "outputs": [
    {
     "data": {
      "text/plain": [
       "Thursday     9383\n",
       "Wednesday    9026\n",
       "Tuesday      7883\n",
       "Friday       6602\n",
       "Monday       5596\n",
       "Sunday       4429\n",
       "Saturday     4197\n",
       "Name: day_of_week, dtype: int64"
      ]
     },
     "execution_count": 27,
     "metadata": {},
     "output_type": "execute_result"
    }
   ],
   "source": [
    "weekday_freq = df['day_of_week'].value_counts()\n",
    "weekday_freq"
   ]
  },
  {
   "cell_type": "code",
   "execution_count": 7,
   "metadata": {},
   "outputs": [
    {
     "name": "stdout",
     "output_type": "stream",
     "text": [
      "ARTICLE          16060\n",
      "CHALLENGE         2401\n",
      "SURVEY_TRIVIA      852\n",
      "QUOTE              747\n",
      "Name: contentType, dtype: int64\n"
     ]
    }
   ],
   "source": [
    "content_freq = df['contentType'].value_counts()\n",
    "print(content_freq)"
   ]
  },
  {
   "cell_type": "code",
   "execution_count": 8,
   "metadata": {},
   "outputs": [
    {
     "name": "stdout",
     "output_type": "stream",
     "text": [
      "Mentee Spotlight!                1310\n",
      "Thanksgiving By The Numbers!     1211\n",
      "Strengths & Passions - Week 2     780\n",
      "Tyler Perry                       710\n",
      "Strengths & Passions - Week 1     708\n",
      "Name: contentTitle, dtype: int64\n"
     ]
    }
   ],
   "source": [
    "title_freq = df['contentTitle'].value_counts()\n",
    "print(title_freq.head())"
   ]
  },
  {
   "cell_type": "code",
   "execution_count": 9,
   "metadata": {},
   "outputs": [
    {
     "data": {
      "text/plain": [
       "5                                      Career Focus: Nurse\n",
       "10                                       Mentee Spotlight!\n",
       "21                               Blob Tree Video Challenge\n",
       "27                       What Actually Makes People Happy?\n",
       "33                            Thanksgiving By The Numbers!\n",
       "                               ...                        \n",
       "63329    I know I?m a queen, but I don?t need no crown....\n",
       "63347                                    Mentee Spotlight!\n",
       "63365                     Sunday Survey: Personality Types\n",
       "63372                                  Character Strengths\n",
       "63408                        Strengths & Passions - Week 3\n",
       "Name: contentTitle, Length: 6151, dtype: object"
      ]
     },
     "execution_count": 9,
     "metadata": {},
     "output_type": "execute_result"
    }
   ],
   "source": [
    "top_content = df[df['rated'] <= 2.0]\n",
    "top_content['contentTitle']\n",
    "\n"
   ]
  },
  {
   "cell_type": "code",
   "execution_count": 10,
   "metadata": {},
   "outputs": [
    {
     "name": "stdout",
     "output_type": "stream",
     "text": [
      "Wednesday average rating: 1.7532005689900427\n",
      "Thursday average rating: 1.7346801346801346\n",
      "Sunday average rating: 1.7001972386587771\n",
      "Friday average rating: 1.7692307692307692\n",
      "Saturday average rating: 1.8741258741258742\n",
      "Tuesday average rating: 1.7494145199063231\n",
      "Monday average rating: 1.7389659520807061\n"
     ]
    }
   ],
   "source": [
    "#Average rating for each day of the week\n",
    "days = pd.unique(df['day_of_week'])\n",
    "\n",
    "for day in days:\n",
    "    df_day_of_week = df[df['day_of_week'] == day]\n",
    "    day_mean = df_day_of_week['rated'].mean()\n",
    "    print(day, \"average rating:\", day_mean)\n",
    "    "
   ]
  },
  {
   "cell_type": "code",
   "execution_count": null,
   "metadata": {},
   "outputs": [],
   "source": []
  },
  {
   "cell_type": "code",
   "execution_count": null,
   "metadata": {},
   "outputs": [],
   "source": []
  }
 ],
 "metadata": {
  "kernelspec": {
   "display_name": "Python 3",
   "language": "python",
   "name": "python3"
  },
  "language_info": {
   "codemirror_mode": {
    "name": "ipython",
    "version": 3
   },
   "file_extension": ".py",
   "mimetype": "text/x-python",
   "name": "python",
   "nbconvert_exporter": "python",
   "pygments_lexer": "ipython3",
   "version": "3.7.4"
  }
 },
 "nbformat": 4,
 "nbformat_minor": 2
}
